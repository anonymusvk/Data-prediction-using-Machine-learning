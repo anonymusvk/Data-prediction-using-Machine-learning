{
  "nbformat": 4,
  "nbformat_minor": 0,
  "metadata": {
    "colab": {
      "name": "linear regression (ML)",
      "provenance": [],
      "authorship_tag": "ABX9TyPxIAx2KlmYHkH9OXa6mySb",
      "include_colab_link": true
    },
    "kernelspec": {
      "name": "python3",
      "display_name": "Python 3"
    },
    "language_info": {
      "name": "python"
    }
  },
  "cells": [
    {
      "cell_type": "markdown",
      "metadata": {
        "id": "view-in-github",
        "colab_type": "text"
      },
      "source": [
        "<a href=\"https://colab.research.google.com/github/anonymusvk/Data-prediction-using-Machine-learning/blob/main/linear_regression_(ML).ipynb\" target=\"_parent\"><img src=\"https://colab.research.google.com/assets/colab-badge.svg\" alt=\"Open In Colab\"/></a>"
      ]
    },
    {
      "cell_type": "code",
      "execution_count": null,
      "metadata": {
        "id": "7WsfxOc-tvrU"
      },
      "outputs": [],
      "source": [
        "from sklearn.linear_model import LinearRegression\n",
        "import matplotlib.pyplot as plt\n",
        "import numpy as np\n",
        "import random "
      ]
    },
    {
      "cell_type": "code",
      "source": [
        "#training the machine using the .fit() function and\n",
        "#linear regression is used so that we can use .fit() function\n",
        "def casesreg(cases_train,time_train): \n",
        "  # from sklearn.linear_model import LinearRegression\n",
        "  reg=LinearRegression()\n",
        "  reg.fit(cases_train,time_train)\n",
        "  return reg"
      ],
      "metadata": {
        "id": "FDFrwjJWzLlK"
      },
      "execution_count": null,
      "outputs": []
    },
    {
      "cell_type": "code",
      "source": [
        "#we are creating a one dimensional numpy array to train the model\n",
        "#linear regression is used only when one variable is dependent on another\n",
        "#so y=mx+c format is used ,m=choosen ,\n",
        "cases=[]\n",
        "time=[]\n",
        "for x in range(100):\n",
        "  cases.append(random.randint(20,100))\n",
        "for x in cases:\n",
        "  y=8.25*x+np.random.normal(scale=100)\n",
        "  time.append(y)"
      ],
      "metadata": {
        "id": "OCzlPkJa0sCA"
      },
      "execution_count": null,
      "outputs": []
    },
    {
      "cell_type": "code",
      "source": [
        "#arrays we created are horizontal so reshape them to vertical as a coumn box\n",
        "cases=np.reshape(cases,(len(cases),1))\n",
        "time=np.reshape(time,(len(time),1))"
      ],
      "metadata": {
        "id": "fJT2On97503e"
      },
      "execution_count": null,
      "outputs": []
    },
    {
      "cell_type": "code",
      "source": [
        "from sklearn.model_selection import train_test_split\n",
        "cases_train,cases_test,time_train,time_test= train_test_split(cases,time)\n",
        "reg=casesreg(cases_train,time_train)"
      ],
      "metadata": {
        "id": "CkzFmHA26XE1"
      },
      "execution_count": null,
      "outputs": []
    },
    {
      "cell_type": "code",
      "source": [
        "print(\"slope\",reg.coef_)\n",
        "print(\"intercept\",reg.intercept_)\n",
        "print(\"testing data\",reg.score(cases_test,time_test))\n",
        "print(reg.score(cases_train,time_train))"
      ],
      "metadata": {
        "colab": {
          "base_uri": "https://localhost:8080/"
        },
        "id": "dgmvxRiP69eM",
        "outputId": "450f82b3-7c1a-46cf-de97-95a08d2c6a16"
      },
      "execution_count": null,
      "outputs": [
        {
          "output_type": "stream",
          "name": "stdout",
          "text": [
            "slope [[7.70435107]]\n",
            "intercept [27.60341799]\n",
            "testing data 0.8379328678470381\n",
            "0.792416330382474\n"
          ]
        }
      ]
    },
    {
      "cell_type": "code",
      "source": [
        "plt.plot(cases_test,reg.predict(cases_test)) \n",
        "plt.xlabel('cases')\n",
        "plt.ylabel('time')\n",
        "plt.show()"
      ],
      "metadata": {
        "colab": {
          "base_uri": "https://localhost:8080/",
          "height": 279
        },
        "id": "uCjRxk7SAUUX",
        "outputId": "d771a057-bbdb-4214-cede-8fe188eeec8f"
      },
      "execution_count": null,
      "outputs": [
        {
          "output_type": "display_data",
          "data": {
            "text/plain": [
              "<Figure size 432x288 with 1 Axes>"
            ],
            "image/png": "[encoded data removed]"
          },
          "metadata": {
            "needs_background": "light"
          }
        }
      ]
    }
  ]
}